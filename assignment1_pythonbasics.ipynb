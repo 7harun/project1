{
 "cells": [
  {
   "cell_type": "markdown",
   "id": "b3d17750",
   "metadata": {},
   "source": [
    "3rd problem"
   ]
  },
  {
   "cell_type": "code",
   "execution_count": 17,
   "id": "c55db89f",
   "metadata": {},
   "outputs": [
    {
     "name": "stdout",
     "output_type": "stream",
     "text": [
      "enter diameter:  12\n"
     ]
    },
    {
     "data": {
      "text/plain": [
       "904.7786842338603"
      ]
     },
     "execution_count": 17,
     "metadata": {},
     "output_type": "execute_result"
    }
   ],
   "source": [
    "import math\n",
    "math.pi\n",
    "diameter = int(input(\"enter diameter:  \"))\n",
    "radius = diameter / 2\n",
    "Volume = (4/3) * (math.pi) * radius**3\n",
    "Volume"
   ]
  },
  {
   "cell_type": "markdown",
   "id": "d39cf221",
   "metadata": {},
   "source": [
    "  "
   ]
  },
  {
   "cell_type": "markdown",
   "id": "b4197391",
   "metadata": {},
   "source": [
    "2nd problem"
   ]
  },
  {
   "cell_type": "code",
   "execution_count": 17,
   "id": "60ec9a2b",
   "metadata": {},
   "outputs": [
    {
     "name": "stdout",
     "output_type": "stream",
     "text": [
      "enter first name: Tharun\n",
      "enter last name: Kumar\n"
     ]
    },
    {
     "data": {
      "text/plain": [
       "'ramuK nurahT'"
      ]
     },
     "execution_count": 17,
     "metadata": {},
     "output_type": "execute_result"
    }
   ],
   "source": [
    "first_name = input(\"enter first name: \")\n",
    "last_name = input(\"enter last name: \")\n",
    "name = first_name + ' ' +last_name\n",
    "name\n",
    "name_reverse = name[::-1]\n",
    "name_reverse"
   ]
  },
  {
   "cell_type": "markdown",
   "id": "a8e2ed75",
   "metadata": {},
   "source": [
    "   "
   ]
  },
  {
   "cell_type": "markdown",
   "id": "9ebdf8c2",
   "metadata": {},
   "source": [
    "1st problem"
   ]
  },
  {
   "cell_type": "code",
   "execution_count": 39,
   "id": "e1994c18",
   "metadata": {},
   "outputs": [
    {
     "name": "stdout",
     "output_type": "stream",
     "text": [
      "2002,2009,2016,2023,2037,2044,2051,2058,2072,2079,2086,2093,2107,2114,2121,2128,2142,2149,2156,2163,2177,2184,2191,2198,2212,2219,2226,2233,2247,2254,2261,2268,2282,2289,2296,2303,2317,2324,2331,2338,2352,2359,2366,2373,2387,2394,2401,2408,2422,2429,2436,2443,2457,2464,2471,2478,2492,2499,2506,2513,2527,2534,2541,2548,2562,2569,2576,2583,2597,2604,2611,2618,2632,2639,2646,2653,2667,2674,2681,2688,2702,2709,2716,2723,2737,2744,2751,2758,2772,2779,2786,2793,2807,2814,2821,2828,2842,2849,2856,2863,2877,2884,2891,2898,2912,2919,2926,2933,2947,2954,2961,2968,2982,2989,2996,"
     ]
    }
   ],
   "source": [
    "for i in range(2000,3000):\n",
    "    if (i%7 == 0 and i%5 != 0):\n",
    "        print(i,end=',')"
   ]
  }
 ],
 "metadata": {
  "kernelspec": {
   "display_name": "Python 3",
   "language": "python",
   "name": "python3"
  },
  "language_info": {
   "codemirror_mode": {
    "name": "ipython",
    "version": 3
   },
   "file_extension": ".py",
   "mimetype": "text/x-python",
   "name": "python",
   "nbconvert_exporter": "python",
   "pygments_lexer": "ipython3",
   "version": "3.8.8"
  }
 },
 "nbformat": 4,
 "nbformat_minor": 5
}
